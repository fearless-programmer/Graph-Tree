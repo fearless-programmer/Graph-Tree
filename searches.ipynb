{
 "cells": [
  {
   "cell_type": "markdown",
   "metadata": {},
   "source": [
    "# Graph and Tree Searches.\n",
    "#### <u>Introduction</u>\n",
    "Different Search Algorithms are used on Graph and Tree Data Structures to obtain a certain goal. **for example**\n",
    "\n",
    "> <span style=\"color: #F96E08;\">_In map implementation to obtain the distance from one place to another, there can be a series of other places that you need to pass through before reaching your destination._</span>\n",
    "\n",
    "In a computer, such an instance is represented using a **graph or tree** and different **search algorithms** can be used to obtain a path through different nodes to get to a specific destination.\n",
    "\n",
    "In this Notebook, we shall cover **five(5)** search algorithms namely:\n",
    "- <span style=\"color: lightgreen;\">Depth First Search</span>\n",
    "- <span style=\"color: lightgreen;\">Breadth First Search</span>\n",
    "- <span style=\"color: lightgreen;\">Uniform Cost Search</span>\n",
    "- <span style=\"color: lightgreen;\">Greedy Search</span>\n",
    "- <span style=\"color: lightgreen;\">A* Search</span>\n",
    "\n",
    "> <span style=\"color: #F96E08;\">We shall implement each algorithm for a Graph and then for a Tree using the example **below**.</span>\n",
    "\n",
    "![Graph](https://github.com/fearless-programmer/Graph-Tree/blob/main/example1.png?raw=true)\n",
    "\n",
    "### <b><span style=\"color: #F96E08;\">Representaion in Python:</span><b>\n",
    "\n",
    "![Graph](https://github.com/fearless-programmer/Graph-Tree/blob/main/graph_representation.png?raw=true)\n"
   ]
  },
  {
   "cell_type": "markdown",
   "metadata": {},
   "source": [
    "> <span style=\"color: lightgreen\">**Run the cell below to load it into memory because it is needed by all the algorithms in this notebook.**</span>"
   ]
  },
  {
   "cell_type": "code",
   "execution_count": 27,
   "metadata": {},
   "outputs": [],
   "source": [
    "graph_structure = {\n",
    "    'S' : {'A': 3,'B': 1},\n",
    "    'A' : {'B': 2,'C': 2},\n",
    "    'B' : {'C': 3},\n",
    "    'C' : {'D': 4,'G': 4},\n",
    "    'D' : {'G': 1},\n",
    "    'G' : {}\n",
    "}\n",
    "\n",
    "\n",
    "heuristics = {\n",
    "    'S': 7,\n",
    "    'A': 5,\n",
    "    'B': 7,\n",
    "    'C': 4,\n",
    "    'D': 1,\n",
    "    'G': 0,\n",
    "}"
   ]
  },
  {
   "cell_type": "markdown",
   "metadata": {},
   "source": [
    "### **Depth First Search**\n",
    "> **For a graph using recursion**\n"
   ]
  },
  {
   "cell_type": "code",
   "execution_count": 51,
   "metadata": {},
   "outputs": [
    {
     "name": "stdout",
     "output_type": "stream",
     "text": [
      "Order of visiting nodes\n",
      "S => A => B => C => D => G => 🏠\n",
      "Goal found\n"
     ]
    }
   ],
   "source": [
    "# Implementation of Depth First Search on a Graph\n",
    "\n",
    "goal = [] # This list enables us track if the goal was reached or not\n",
    "def graph_dfs(graph, start_node, visited = set()):\n",
    "    if 'G' in goal:\n",
    "        return\n",
    "    if start_node not in visited:\n",
    "        print(start_node, end=' => ')   # This portion prints the path that is taken to get to the goal\n",
    "        visited.add(start_node)\n",
    "        if start_node=='G':\n",
    "            goal.append('G')\n",
    "        \n",
    "        for neighbor in graph[start_node]:\n",
    "            graph_dfs(graph, neighbor, visited)\n",
    "\n",
    "\n",
    "print('Order of visiting nodes')\n",
    "graph_dfs(graph_structure, 'S')\n",
    "if 'G' in goal:\n",
    "    print('🏠\\nGoal found')\n",
    "else:\n",
    "    print('😔\\nGoal was not found')\n",
    "\n",
    "print('Path to Goal')"
   ]
  },
  {
   "cell_type": "markdown",
   "metadata": {},
   "source": [
    "> **For a Tree using recursion**\n",
    "\n",
    ">> Note: _A Tree doesn't keep track of the nodes it visited._"
   ]
  },
  {
   "cell_type": "code",
   "execution_count": 38,
   "metadata": {},
   "outputs": [
    {
     "name": "stdout",
     "output_type": "stream",
     "text": [
      "S => A => B => C => D => G => G => C => D => G => G => B => C => D => G => G => 🏠\n"
     ]
    }
   ],
   "source": [
    "# Implementation of Depth First Search on a Tree\n",
    "\n",
    "goal=[]\n",
    "def tree_dfs(graph: dict, start_node):\n",
    "    print(start_node, end=' => ')       # This portion prints the path that is taken to get to the goal\n",
    "\n",
    "    if start_node == 'G':\n",
    "          goal.append('G')\n",
    "\n",
    "    for neighbor in graph[start_node]:\n",
    "            tree_dfs(graph, neighbor)\n",
    "\n",
    "\n",
    "tree_dfs(graph_structure, 'S')\n",
    "if 'G' in goal:\n",
    "    print('🏠')\n",
    "else:\n",
    "    print('😔')"
   ]
  },
  {
   "cell_type": "markdown",
   "metadata": {},
   "source": [
    "<span style=\"color: #F96E08;\">The search in the Tree above goes through all the nodes till the end and returns multiple Goals. The modified code below returns the first instance of Goal, 'G'<span>"
   ]
  },
  {
   "cell_type": "code",
   "execution_count": 26,
   "metadata": {},
   "outputs": [
    {
     "name": "stdout",
     "output_type": "stream",
     "text": [
      "S => A => B => C => D => G => 🏠\n"
     ]
    }
   ],
   "source": [
    "# Implementation of Depth First Search on a Tree. Version 2.\n",
    "\n",
    "goal=[] # This enables us track if the goal was reached or not\n",
    "def tree_dfs(graph: dict, start_node):\n",
    "    if 'G' in goal:\n",
    "        return\n",
    "    else:\n",
    "        print(start_node, end=' => ')     # This portion prints the path that is taken to get to the goal\n",
    "\n",
    "    if start_node == 'G':\n",
    "        goal.append(start_node)\n",
    "        \n",
    "    for neighbor in graph[start_node]:\n",
    "            tree_dfs(graph, neighbor)\n",
    "\n",
    "\n",
    "tree_dfs(graph_structure, 'S')\n",
    "if 'G' in goal:\n",
    "    print('🏠')\n",
    "else:\n",
    "     print('😔\\nGoal not found')"
   ]
  },
  {
   "cell_type": "markdown",
   "metadata": {},
   "source": [
    "### **Breadth First Search**\n",
    "> **For a graph using a queue**"
   ]
  },
  {
   "cell_type": "code",
   "execution_count": 14,
   "metadata": {},
   "outputs": [
    {
     "name": "stdout",
     "output_type": "stream",
     "text": [
      "Order of visiting nodes\n",
      "S => A => B => C => D => G => 🏠\n",
      "Goal found\n"
     ]
    }
   ],
   "source": [
    "# Implementation of Breadth First Search for a graph\n",
    "\n",
    "from collections import deque\n",
    "\n",
    "def bfs_graph(graph, start):\n",
    "    visited = set()  # To keep track of visited nodes\n",
    "    queue = deque()  # Initialize a queue for BFS\n",
    "\n",
    "    # Start with the initial node\n",
    "    queue.append(start)\n",
    "    visited.add(start)\n",
    "\n",
    "    while queue:\n",
    "        node = queue.popleft()  # Dequeue the front node\n",
    "        print(node, end=\" => \")  # Process the current node\n",
    "\n",
    "        # Enqueue all unvisited neighbors\n",
    "        for neighbor in graph.get(node, {}):\n",
    "            if neighbor not in visited:\n",
    "                queue.append(neighbor)\n",
    "                visited.add(neighbor)\n",
    "\n",
    "\n",
    "print(\"Order of visiting nodes\")\n",
    "bfs_graph(graph_structure, 'S')\n",
    "print('🏠\\nGoal found')\n"
   ]
  },
  {
   "cell_type": "markdown",
   "metadata": {},
   "source": [
    "> **For a tree using a queue**"
   ]
  },
  {
   "cell_type": "code",
   "execution_count": 40,
   "metadata": {},
   "outputs": [
    {
     "name": "stdout",
     "output_type": "stream",
     "text": [
      "BFS for the tree with Order Visited and Optimal Path:\n",
      "Order Visited: S => A => B => C => D => G\n",
      "Optimal Path: S => A => C => G 🏠\n"
     ]
    }
   ],
   "source": [
    "# Implementation of Breath First Search for a Tree\n",
    "\n",
    "from collections import deque\n",
    "\n",
    "def tree_bfs(tree, start, goal):\n",
    "    visited = set()  # To keep track of visited nodes\n",
    "    queue = deque()  # Initialize a queue\n",
    "\n",
    "    parent = {}  # Dictionary to track parent nodes. Used to draw path\n",
    "    order_visited = []  # List to store the order of nodes visited\n",
    "\n",
    "    queue.append(start)\n",
    "    visited.add(start)\n",
    "    parent[start] = None  # The start node has no parent\n",
    "\n",
    "    while queue:\n",
    "        node = queue.popleft()  # Dequeue the front node\n",
    "        order_visited.append(node)  # Store the order of nodes visited\n",
    "\n",
    "        if node == goal:\n",
    "            # Reconstruct and print the path from goal to start\n",
    "            path = []\n",
    "            while node is not None:\n",
    "                path.insert(0, node)  # Insert nodes at the beginning of the path\n",
    "                node = parent[node]\n",
    "            print(\"Order Visited:\", \" => \".join(order_visited))\n",
    "            print(\"Optimal Path:\", \" => \".join(path), \"🏠\")\n",
    "            return  # Stop after finding the goal\n",
    "\n",
    "        # Enqueue all unvisited neighbors\n",
    "        for neighbor in tree.get(node, {}):\n",
    "            if neighbor not in visited:\n",
    "                queue.append(neighbor)\n",
    "                visited.add(neighbor)\n",
    "                parent[neighbor] = node  # Set the current node as the parent\n",
    "\n",
    "    print(\"😔\\nGoal not found\")\n",
    "\n",
    "\n",
    "start_node = 'S'\n",
    "goal_node = 'G'\n",
    "\n",
    "print(\"BFS for the tree with Order Visited and Optimal Path:\")\n",
    "tree_bfs(graph_structure, start_node, goal_node)\n"
   ]
  },
  {
   "cell_type": "markdown",
   "metadata": {},
   "source": [
    "### **Uniform Cost Search**\n",
    "> **For a graph using a priorty queue**"
   ]
  },
  {
   "cell_type": "code",
   "execution_count": 23,
   "metadata": {},
   "outputs": [
    {
     "name": "stdout",
     "output_type": "stream",
     "text": [
      "Uniform Cost Search for the graph:\n",
      "Optimal Path: S => B => C => G 🏠\n"
     ]
    }
   ],
   "source": [
    "# Implementation of Uniform Cost Search on a Graph\n",
    "\n",
    "import heapq # A heap is used to impelement a priority queue\n",
    "\n",
    "def ucs_graph(graph, start, goal):\n",
    "    priority_queue = []  # Priority queue for UCS\n",
    "    heapq.heappush(priority_queue, (0, start, []))  # Start node with cost 0 and empty path\n",
    "    visited = set()  # To keep track of visited nodes\n",
    "\n",
    "    while priority_queue:\n",
    "        cost, node, path = heapq.heappop(priority_queue)  # Get the node with the lowest cost\n",
    "\n",
    "        if node == goal:\n",
    "            print(\"Optimal Path:\", \" => \".join(path + [node]), '🏠')\n",
    "            return  # Stop when the goal node is reached\n",
    "\n",
    "        if node not in visited:\n",
    "            visited.add(node)\n",
    "\n",
    "            # Explore neighbors and enqueue them with their costs and paths\n",
    "            for neighbor, edge_cost in graph.get(node, {}).items():\n",
    "                if neighbor not in visited:\n",
    "                    new_cost = cost + edge_cost\n",
    "                    new_path = path + [node]\n",
    "                    heapq.heappush(priority_queue, (new_cost, neighbor, new_path))\n",
    "\n",
    "\n",
    "start_node = 'S'\n",
    "goal_node = 'G'\n",
    "\n",
    "print(\"Uniform Cost Search for the graph:\")\n",
    "ucs_graph(graph_structure, start_node, goal_node)\n"
   ]
  },
  {
   "cell_type": "markdown",
   "metadata": {},
   "source": [
    "> **For a tree using a priority queue**"
   ]
  },
  {
   "cell_type": "code",
   "execution_count": 26,
   "metadata": {},
   "outputs": [
    {
     "name": "stdout",
     "output_type": "stream",
     "text": [
      "Uniform Cost Search for the tree:\n",
      "Optimal Path: S => B => C => G 🏠\n"
     ]
    }
   ],
   "source": [
    "# Implementation of Uniform Cost Search on a Tree\n",
    "# Same as for a graph but this one doesn't track visited nodes.\n",
    "\n",
    "import heapq # A heap is used to impelement a priority queue\n",
    "\n",
    "def ucs_tree(graph, start, goal):\n",
    "    priority_queue = []  # Priority queue for UCS\n",
    "    heapq.heappush(priority_queue, (0, start, []))  # Start node with cost 0 and empty path\n",
    "    visited = set()  # To keep track of visited nodes\n",
    "\n",
    "    while priority_queue:\n",
    "        cost, node, path = heapq.heappop(priority_queue)  # Get the node with the lowest cost\n",
    "\n",
    "        if node == goal:\n",
    "            print(\"Optimal Path:\", \" => \".join(path + [node]), '🏠')\n",
    "            return  # Stop when the goal node is reached\n",
    "\n",
    "        if node not in visited:\n",
    "            visited.add(node)\n",
    "\n",
    "            # Explore neighbors and enqueue them with their costs and paths\n",
    "            for neighbor, edge_cost in graph.get(node, {}).items():\n",
    "                if neighbor not in visited:\n",
    "                    new_cost = cost + edge_cost\n",
    "                    new_path = path + [node]\n",
    "                    heapq.heappush(priority_queue, (new_cost, neighbor, new_path))\n",
    "\n",
    "start_node = 'S'\n",
    "goal_node = 'G'\n",
    "\n",
    "print(\"Uniform Cost Search for the tree:\")\n",
    "ucs_tree(graph_structure, start_node, goal_node)\n"
   ]
  },
  {
   "cell_type": "markdown",
   "metadata": {},
   "source": [
    ">> Note: <span style=\"color:lightgreen;\">**Greedy search and A\\* use heuristic values.**</span>"
   ]
  },
  {
   "cell_type": "markdown",
   "metadata": {},
   "source": [
    "### **Greedy Search**\n",
    "\n",
    "> **For a graph using a priority queue**"
   ]
  },
  {
   "cell_type": "code",
   "execution_count": 35,
   "metadata": {},
   "outputs": [
    {
     "name": "stdout",
     "output_type": "stream",
     "text": [
      "Order Visited: S => A => C => G\n"
     ]
    }
   ],
   "source": [
    "# Implementation of Greedy Search for a graph\n",
    "\n",
    "import heapq\n",
    "\n",
    "def greedy_search(graph, start, goal, heuristic):\n",
    "    priority_queue = []  # Priority queue for Greedy search\n",
    "    heapq.heappush(priority_queue, (heuristic[start], start))  # Start node with heuristic value\n",
    "    visited = set()  # To keep track of visited nodes\n",
    "    visited_order = []  # To store the order of visited nodes\n",
    "\n",
    "    while priority_queue:\n",
    "        heuristic_cost, node = heapq.heappop(priority_queue)  # Get the node with the lowest heuristic value\n",
    "\n",
    "        if node == goal:\n",
    "            visited_order.append(node)  # Record the goal node\n",
    "            print(\"Order Visited:\", \" => \".join(visited_order))\n",
    "            return  # Stop when the goal node is reached\n",
    "\n",
    "        if node not in visited:\n",
    "            visited_order.append(node)  # Record the visited node\n",
    "            visited.add(node)\n",
    "\n",
    "            # Expand neighbors and enqueue them with their heuristic values\n",
    "            for neighbor, _ in graph.get(node, {}).items():\n",
    "                if neighbor not in visited:\n",
    "                    heapq.heappush(priority_queue, (heuristic[neighbor], neighbor))\n",
    "\n",
    "\n",
    "start_node = 'S'\n",
    "goal_node = 'G'\n",
    "\n",
    "\n",
    "greedy_search(graph_structure, start_node, goal_node, heuristics)\n"
   ]
  },
  {
   "cell_type": "markdown",
   "metadata": {},
   "source": [
    "> **For a tree using a priority queue**"
   ]
  },
  {
   "cell_type": "code",
   "execution_count": 37,
   "metadata": {},
   "outputs": [
    {
     "name": "stdout",
     "output_type": "stream",
     "text": [
      "Order Visited: S => A => C => G\n"
     ]
    }
   ],
   "source": [
    "# Implementation of Greedy Search for a tree\n",
    "\n",
    "import heapq\n",
    "\n",
    "def greedy_search_tree(tree, start, goal, heuristic):\n",
    "    priority_queue = []  # Priority queue for Greedy search\n",
    "    heapq.heappush(priority_queue, (heuristic[start], start))  # Start node with heuristic value\n",
    "    visited = set()  # To keep track of visited nodes\n",
    "    visited_order = []  # To store the order of visited nodes\n",
    "\n",
    "    while priority_queue:\n",
    "        heuristic_cost, node = heapq.heappop(priority_queue)  # Get the node with the lowest heuristic value\n",
    "\n",
    "        if node == goal:\n",
    "            visited_order.append(node)  # Record the goal node\n",
    "            print(\"Order Visited:\", \" => \".join(visited_order))\n",
    "            return  # Stop when the goal node is reached\n",
    "\n",
    "        if node not in visited:\n",
    "            visited_order.append(node)  # Record the visited node\n",
    "            visited.add(node)\n",
    "\n",
    "            # Expand neighbors and enqueue them with their heuristic values\n",
    "            for neighbor, _ in tree.get(node, {}).items():\n",
    "                if neighbor not in visited:\n",
    "                    heapq.heappush(priority_queue, (heuristic[neighbor], neighbor))\n",
    "\n",
    "\n",
    "start_node = 'S'\n",
    "goal_node = 'G'\n",
    "\n",
    "\n",
    "greedy_search_tree(graph_structure, start_node, goal_node, heuristics)\n"
   ]
  },
  {
   "cell_type": "markdown",
   "metadata": {},
   "source": [
    "### **A\\* Search**\n",
    "\n",
    "> **For a graph using a priority queue**"
   ]
  },
  {
   "cell_type": "code",
   "execution_count": 39,
   "metadata": {},
   "outputs": [
    {
     "name": "stdout",
     "output_type": "stream",
     "text": [
      "A* Search for the graph with heuristic values and edge costs:\n",
      "Optimal Path: S => B => C => G 🏠\n"
     ]
    }
   ],
   "source": [
    "# Implementation of A* Search for a graph\n",
    "\n",
    "import heapq\n",
    "\n",
    "def a_star_search(graph, start, goal, heuristic):\n",
    "    priority_queue = []  # Priority queue for A* search\n",
    "    heapq.heappush(priority_queue, (heuristic[start], start, [], 0))  # Start node with heuristic value, empty path, and cost\n",
    "    visited = set()  # To keep track of visited nodes\n",
    "\n",
    "    while priority_queue:\n",
    "        heuristic_cost, node, path, cost = heapq.heappop(priority_queue)  # Get the node with the lowest f(n) value\n",
    "\n",
    "        if node == goal:\n",
    "            path.append(node)  # Add the goal node to the path\n",
    "            print(\"Optimal Path:\", \" => \".join(path), '🏠')\n",
    "            return  # Stop when the goal node is reached\n",
    "\n",
    "        if node not in visited:\n",
    "            visited.add(node)\n",
    "\n",
    "            # Expand neighbors and enqueue them with their f(n) values and paths\n",
    "            for neighbor, edge_cost in graph.get(node, {}).items():\n",
    "                if neighbor not in visited:\n",
    "                    new_cost = cost + edge_cost\n",
    "                    new_path = path + [node]\n",
    "                    f_value = new_cost + heuristic[neighbor]\n",
    "                    heapq.heappush(priority_queue, (f_value, neighbor, new_path, new_cost))\n",
    "\n",
    "\n",
    "start_node = 'S'\n",
    "goal_node = 'G'\n",
    "\n",
    "\n",
    "print(\"A* Search for the graph with heuristic values and edge costs:\")\n",
    "a_star_search(graph_structure, start_node, goal_node, heuristics)\n"
   ]
  },
  {
   "cell_type": "markdown",
   "metadata": {},
   "source": [
    "> **For a tree using a priority queue**"
   ]
  },
  {
   "cell_type": "code",
   "execution_count": 42,
   "metadata": {},
   "outputs": [
    {
     "name": "stdout",
     "output_type": "stream",
     "text": [
      "A* Search for the tree with heuristic values:\n",
      "Optimal Path: S => B => C => G 🏠\n"
     ]
    }
   ],
   "source": [
    "# Implementation of A* Search for a tree\n",
    "\n",
    "import heapq\n",
    "\n",
    "def a_star_search_tree(tree, start, goal, heuristic):\n",
    "    priority_queue = []  # Priority queue for A* search\n",
    "    heapq.heappush(priority_queue, (heuristic[start], start, [], 0))  # Start node with heuristic value, empty path, and cost\n",
    "    visited = set()  # To keep track of visited nodes\n",
    "\n",
    "    while priority_queue:\n",
    "        heuristic_cost, node, path, cost = heapq.heappop(priority_queue)  # Get the node with the lowest f(n) value\n",
    "\n",
    "        if node == goal:\n",
    "            path.append(node)  # Add the goal node to the path\n",
    "            print(\"Optimal Path:\", \" => \".join(path), '🏠')\n",
    "            return  # Stop when the goal node is reached\n",
    "\n",
    "        if node not in visited:\n",
    "            visited.add(node)\n",
    "\n",
    "            # Expand neighbors and enqueue them with their f(n) values and paths\n",
    "            for neighbor, edge_cost in tree.get(node, {}).items():\n",
    "                if neighbor not in visited:\n",
    "                    new_cost = cost + edge_cost\n",
    "                    new_path = path + [node]\n",
    "                    f_value = new_cost + heuristic[neighbor]\n",
    "                    heapq.heappush(priority_queue, (f_value, neighbor, new_path, new_cost))\n",
    "\n",
    "# Example usage for a tree with heuristic values:\n",
    "\n",
    "start_node = 'S'\n",
    "goal_node = 'G'\n",
    "\n",
    "print(\"A* Search for the tree with heuristic values:\")\n",
    "a_star_search_tree(graph_structure, start_node, goal_node, heuristics)\n"
   ]
  }
 ],
 "metadata": {
  "kernelspec": {
   "display_name": "Python 3",
   "language": "python",
   "name": "python3"
  },
  "language_info": {
   "codemirror_mode": {
    "name": "ipython",
    "version": 3
   },
   "file_extension": ".py",
   "mimetype": "text/x-python",
   "name": "python",
   "nbconvert_exporter": "python",
   "pygments_lexer": "ipython3",
   "version": "3.10.12"
  },
  "orig_nbformat": 4
 },
 "nbformat": 4,
 "nbformat_minor": 2
}
